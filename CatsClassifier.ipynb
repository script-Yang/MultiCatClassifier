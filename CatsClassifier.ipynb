{
 "cells": [
  {
   "cell_type": "code",
   "execution_count": 21,
   "metadata": {},
   "outputs": [],
   "source": [
    "from keras.applications import resnet50\n",
    "from keras.models import Sequential\n",
    "from keras.layers import Dense, GlobalAveragePooling2D\n",
    "from sklearn.model_selection import train_test_split\n",
    "import os\n",
    "import cv2\n",
    "import numpy as np\n",
    "from keras.utils import to_categorical\n",
    "import tensorflow as tf\n",
    "\n",
    "resnet = resnet50.ResNet50(weights='imagenet', include_top=False)\n",
    "data_path = './cats'\n",
    "folder_paths = os.listdir(data_path)\n",
    "labels = [4, 1, 0, 2, 3]\n",
    "\n",
    "images = []\n",
    "image_labels = []\n",
    "\n",
    "for i, folder_path in enumerate(folder_paths):\n",
    "    files = os.listdir(data_path + '/' + folder_path)\n",
    "    for file in files:\n",
    "        try:\n",
    "            image_path = data_path + '/' + folder_path + '/' + file\n",
    "            image = cv2.imread(image_path)\n",
    "            image = cv2.resize(image, (224, 224))\n",
    "            images.append(image)\n",
    "            image_labels.append(labels[i])\n",
    "        except Exception:\n",
    "            print(image_path)\n",
    "\n",
    "images = np.array(images)\n",
    "image_labels = np.array(image_labels)\n",
    "image_labels = to_categorical(image_labels)\n",
    "\n",
    "train_images,test_images,train_image_labels,test_image_labels = train_test_split(images , image_labels, test_size=0.3, random_state=42)\n",
    "model = Sequential()\n",
    "model.add(resnet)\n",
    "model.add(GlobalAveragePooling2D())\n",
    "model.add(Dense(256, activation='relu'))\n",
    "model.add(Dense(5, activation='softmax'))\n",
    "model.compile(optimizer='sgd', loss='categorical_crossentropy', metrics=['accuracy'])\n",
    "epochs = 10\n",
    "batch_size = 5\n",
    "model.fit(train_images, train_image_labels, epochs=epochs, batch_size=batch_size)\n",
    "\n",
    "loss, accuracy = model.evaluate(test_images, test_image_labels)\n",
    "model.save('model.h5')"
   ]
  },
  {
   "cell_type": "code",
   "execution_count": 22,
   "metadata": {},
   "outputs": [
    {
     "name": "stdout",
     "output_type": "stream",
     "text": [
      "48/48 [==============================] - 53s 1s/step - loss: 0.2446 - accuracy: 0.9597\n"
     ]
    }
   ],
   "source": [
    "# model = tf.keras.models.load_model(\"./new_model.h5\")\n",
    "\n",
    "# loss, accuracy = model.evaluate(images, image_labels)"
   ]
  }
 ],
 "metadata": {
  "kernelspec": {
   "display_name": "Python 3",
   "language": "python",
   "name": "python3"
  },
  "language_info": {
   "codemirror_mode": {
    "name": "ipython",
    "version": 3
   },
   "file_extension": ".py",
   "mimetype": "text/x-python",
   "name": "python",
   "nbconvert_exporter": "python",
   "pygments_lexer": "ipython3",
   "version": "3.10.11"
  },
  "orig_nbformat": 4
 },
 "nbformat": 4,
 "nbformat_minor": 2
}
